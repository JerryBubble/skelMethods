{
 "cells": [
  {
   "cell_type": "markdown",
   "id": "de16f617",
   "metadata": {},
   "source": [
    "# Notebook to test codes"
   ]
  },
  {
   "cell_type": "code",
   "execution_count": 1,
   "id": "10162dfb",
   "metadata": {},
   "outputs": [],
   "source": [
    "import numpy as np\n",
    "import pandas as pd\n",
    "import scipy"
   ]
  },
  {
   "cell_type": "code",
   "execution_count": 4,
   "id": "bfaaa8ad",
   "metadata": {},
   "outputs": [],
   "source": [
    "def distance_matrix(A, B, squared=False):\n",
    "    \"\"\"\n",
    "    Compute all pairwise distances between vectors in A and B.\n",
    "\n",
    "    Parameters\n",
    "    ----------\n",
    "    A : np.array\n",
    "        shape should be (M, K)\n",
    "    B : np.array\n",
    "        shape should be (N, K)\n",
    "\n",
    "    Returns\n",
    "    -------\n",
    "    D : np.array\n",
    "        A matrix D of shape (M, N).  Each entry in D i,j represnets the\n",
    "        distance between row i in A and row j in B.\n",
    "    \"\"\"\n",
    "    M = A.shape[0]\n",
    "    N = B.shape[0]\n",
    "\n",
    "    assert A.shape[1] == B.shape[1], f\"The number of components for vectors in A \\\n",
    "        {A.shape[1]} does not match that of B {B.shape[1]}!\"\n",
    "\n",
    "    A_dots = (A*A).sum(axis=1).reshape((M,1))*np.ones(shape=(1,N))\n",
    "    B_dots = (B*B).sum(axis=1)*np.ones(shape=(M,1))\n",
    "    D_squared =  A_dots + B_dots -2*A.dot(B.T)\n",
    "\n",
    "    if squared == False:\n",
    "        zero_mask = np.less(D_squared, 0.0)\n",
    "        D_squared[zero_mask] = 0.0\n",
    "        return np.sqrt(D_squared)\n",
    "\n",
    "    return D_squared\n",
    "\n",
    "from scipy.spatial import distance_matrix"
   ]
  },
  {
   "cell_type": "code",
   "execution_count": null,
   "id": "210a57e6",
   "metadata": {},
   "outputs": [],
   "source": [
    "    \"\"\"\n",
    "    Generating twoMoon data\n",
    "\n",
    "    Parameters\n",
    "    ----------\n",
    "    \n",
    "    Returns\n",
    "    -------\n",
    "    \"\"\"\n",
    "def twoMoon(numObjects = 180, shape1a = -0.4, shape2b = 1, shape1rFrom = 0.8, \n",
    "    shape1rTo = 1.2, shape2rFrom = 0.8, shape2rTo = 1.2, outputCsv = \"\", \n",
    "    outputCsv2 = \"\", outputColNames = TRUE, outputRowNames = TRUE):\n",
    "    \n",
    "    nrow = numObjects*2\n",
    "    x =  np.array([[0 for row in range(nrow)] for col in range(2)])\n",
    "    for (i in 1:nrow) {\n",
    "        alpha <- runif(1, 0, 2 * pi)\n",
    "        if (i > lo[1]) {\n",
    "            r = runif(1, shape2rFrom, shape2rTo)\n",
    "        }\n",
    "        else {\n",
    "            r = runif(1, shape1rFrom, shape1rTo)\n",
    "        }\n",
    "        x[i, 1] <- r * cos(alpha)\n",
    "        x[i, 2] <- r * sin(alpha)\n",
    "        if (i <= lo[1]) {\n",
    "            x[i, 1] = shape1a + abs(x[i, 1])\n",
    "        }\n",
    "        else {\n",
    "            x[i, 1] = -abs(x[i, 1])\n",
    "            x[i, 2] = x[i, 2] - shape2b\n",
    "        }\n",
    "    }\n",
    "    data <- x\n",
    "    klasy <- c(rep(1, lo[1]), rep(2, lo[2]))\n",
    "    .toCsv(outputCsv, data, klasy, outputColNames, outputRowNames, \n",
    "        FALSE)\n",
    "    .toCsv(outputCsv2, data, klasy, outputColNames, outputRowNames, \n",
    "        TRUE)\n",
    "    return list(data = data, clusters = klasy)\n"
   ]
  },
  {
   "cell_type": "code",
   "execution_count": 7,
   "id": "b1767db5",
   "metadata": {},
   "outputs": [
    {
     "data": {
      "text/plain": [
       "array([[0, 0, 0, 0, 0, 0, 0, 0, 0, 0, 0, 0, 0, 0, 0, 0, 0, 0, 0, 0, 0, 0,\n",
       "        0, 0, 0, 0, 0, 0, 0, 0, 0, 0, 0, 0, 0, 0, 0, 0, 0, 0, 0, 0, 0, 0,\n",
       "        0, 0, 0, 0, 0, 0, 0, 0, 0, 0, 0, 0, 0, 0, 0, 0, 0, 0, 0, 0, 0, 0,\n",
       "        0, 0, 0, 0, 0, 0, 0, 0, 0, 0, 0, 0, 0, 0, 0, 0, 0, 0, 0, 0, 0, 0,\n",
       "        0, 0, 0, 0, 0, 0, 0, 0, 0, 0, 0, 0, 0, 0, 0, 0, 0, 0, 0, 0, 0, 0,\n",
       "        0, 0, 0, 0, 0, 0, 0, 0, 0, 0, 0, 0, 0, 0, 0, 0, 0, 0, 0, 0, 0, 0,\n",
       "        0, 0, 0, 0, 0, 0, 0, 0, 0, 0, 0, 0, 0, 0, 0, 0, 0, 0, 0, 0, 0, 0,\n",
       "        0, 0, 0, 0, 0, 0, 0, 0, 0, 0, 0, 0, 0, 0, 0, 0, 0, 0, 0, 0, 0, 0,\n",
       "        0, 0, 0, 0, 0, 0, 0, 0, 0, 0, 0, 0, 0, 0, 0, 0, 0, 0, 0, 0, 0, 0,\n",
       "        0, 0, 0, 0, 0, 0, 0, 0, 0, 0, 0, 0, 0, 0, 0, 0, 0, 0, 0, 0, 0, 0,\n",
       "        0, 0, 0, 0, 0, 0, 0, 0, 0, 0, 0, 0, 0, 0, 0, 0, 0, 0, 0, 0, 0, 0,\n",
       "        0, 0, 0, 0, 0, 0, 0, 0, 0, 0, 0, 0, 0, 0, 0, 0, 0, 0, 0, 0, 0, 0,\n",
       "        0, 0, 0, 0, 0, 0, 0, 0, 0, 0, 0, 0, 0, 0, 0, 0, 0, 0, 0, 0, 0, 0,\n",
       "        0, 0, 0, 0, 0, 0, 0, 0, 0, 0, 0, 0, 0, 0, 0, 0, 0, 0, 0, 0, 0, 0,\n",
       "        0, 0, 0, 0, 0, 0, 0, 0, 0, 0, 0, 0, 0, 0, 0, 0, 0, 0, 0, 0, 0, 0,\n",
       "        0, 0, 0, 0, 0, 0, 0, 0, 0, 0, 0, 0, 0, 0, 0, 0, 0, 0, 0, 0, 0, 0,\n",
       "        0, 0, 0, 0, 0, 0, 0, 0],\n",
       "       [0, 0, 0, 0, 0, 0, 0, 0, 0, 0, 0, 0, 0, 0, 0, 0, 0, 0, 0, 0, 0, 0,\n",
       "        0, 0, 0, 0, 0, 0, 0, 0, 0, 0, 0, 0, 0, 0, 0, 0, 0, 0, 0, 0, 0, 0,\n",
       "        0, 0, 0, 0, 0, 0, 0, 0, 0, 0, 0, 0, 0, 0, 0, 0, 0, 0, 0, 0, 0, 0,\n",
       "        0, 0, 0, 0, 0, 0, 0, 0, 0, 0, 0, 0, 0, 0, 0, 0, 0, 0, 0, 0, 0, 0,\n",
       "        0, 0, 0, 0, 0, 0, 0, 0, 0, 0, 0, 0, 0, 0, 0, 0, 0, 0, 0, 0, 0, 0,\n",
       "        0, 0, 0, 0, 0, 0, 0, 0, 0, 0, 0, 0, 0, 0, 0, 0, 0, 0, 0, 0, 0, 0,\n",
       "        0, 0, 0, 0, 0, 0, 0, 0, 0, 0, 0, 0, 0, 0, 0, 0, 0, 0, 0, 0, 0, 0,\n",
       "        0, 0, 0, 0, 0, 0, 0, 0, 0, 0, 0, 0, 0, 0, 0, 0, 0, 0, 0, 0, 0, 0,\n",
       "        0, 0, 0, 0, 0, 0, 0, 0, 0, 0, 0, 0, 0, 0, 0, 0, 0, 0, 0, 0, 0, 0,\n",
       "        0, 0, 0, 0, 0, 0, 0, 0, 0, 0, 0, 0, 0, 0, 0, 0, 0, 0, 0, 0, 0, 0,\n",
       "        0, 0, 0, 0, 0, 0, 0, 0, 0, 0, 0, 0, 0, 0, 0, 0, 0, 0, 0, 0, 0, 0,\n",
       "        0, 0, 0, 0, 0, 0, 0, 0, 0, 0, 0, 0, 0, 0, 0, 0, 0, 0, 0, 0, 0, 0,\n",
       "        0, 0, 0, 0, 0, 0, 0, 0, 0, 0, 0, 0, 0, 0, 0, 0, 0, 0, 0, 0, 0, 0,\n",
       "        0, 0, 0, 0, 0, 0, 0, 0, 0, 0, 0, 0, 0, 0, 0, 0, 0, 0, 0, 0, 0, 0,\n",
       "        0, 0, 0, 0, 0, 0, 0, 0, 0, 0, 0, 0, 0, 0, 0, 0, 0, 0, 0, 0, 0, 0,\n",
       "        0, 0, 0, 0, 0, 0, 0, 0, 0, 0, 0, 0, 0, 0, 0, 0, 0, 0, 0, 0, 0, 0,\n",
       "        0, 0, 0, 0, 0, 0, 0, 0]])"
      ]
     },
     "execution_count": 7,
     "metadata": {},
     "output_type": "execute_result"
    }
   ],
   "source": [
    "numObjects = 180\n"
   ]
  }
 ],
 "metadata": {
  "kernelspec": {
   "display_name": "base",
   "language": "python",
   "name": "python3"
  },
  "language_info": {
   "codemirror_mode": {
    "name": "ipython",
    "version": 3
   },
   "file_extension": ".py",
   "mimetype": "text/x-python",
   "name": "python",
   "nbconvert_exporter": "python",
   "pygments_lexer": "ipython3",
   "version": "3.9.16"
  },
  "vscode": {
   "interpreter": {
    "hash": "ad2bdc8ecc057115af97d19610ffacc2b4e99fae6737bb82f5d7fb13d2f2c186"
   }
  }
 },
 "nbformat": 4,
 "nbformat_minor": 5
}
